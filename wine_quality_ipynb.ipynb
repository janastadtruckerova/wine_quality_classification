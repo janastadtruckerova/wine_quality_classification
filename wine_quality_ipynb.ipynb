{
  "nbformat": 4,
  "nbformat_minor": 0,
  "metadata": {
    "colab": {
      "provenance": [],
      "authorship_tag": "ABX9TyPc+X4LbusAsPLBCjePERgn",
      "include_colab_link": true
    },
    "kernelspec": {
      "name": "python3",
      "display_name": "Python 3"
    },
    "language_info": {
      "name": "python"
    }
  },
  "cells": [
    {
      "cell_type": "markdown",
      "metadata": {
        "id": "view-in-github",
        "colab_type": "text"
      },
      "source": [
        "<a href=\"https://colab.research.google.com/github/janastadtruckerova/wine_quality_classification/blob/main/wine_quality_ipynb.ipynb\" target=\"_parent\"><img src=\"https://colab.research.google.com/assets/colab-badge.svg\" alt=\"Open In Colab\"/></a>"
      ]
    },
    {
      "cell_type": "markdown",
      "source": [
        "# **Predikcia kvality vína**"
      ],
      "metadata": {
        "id": "BwAvhGLptusv"
      }
    },
    {
      "cell_type": "markdown",
      "source": [
        "Cieľom projektu je klasifikovať kvalitu vína ako nadpriemernú alebo podpriemernú na základe fyzikálno-chemických vlastností. Použili sme  dataset Wine Quality, ktorý obsahuje údaje ako napr. obsah alkoholu, kyslosti, cukru, pH a ďalšie premenné."
      ],
      "metadata": {
        "id": "mQEuAA0xqDbP"
      }
    },
    {
      "cell_type": "markdown",
      "source": [
        "**Import knižníc a načítanie datasetu**"
      ],
      "metadata": {
        "id": "DzwzRxx6uBrl"
      }
    },
    {
      "cell_type": "code",
      "source": [
        "# Importovanie potrebných knižníc\n",
        "import pandas as pd\n",
        "import numpy as np\n",
        "import matplotlib.pyplot as plt\n",
        "import seaborn as sns\n",
        "from sklearn.model_selection import train_test_split"
      ],
      "metadata": {
        "id": "rdOOmGEEyedI"
      },
      "execution_count": null,
      "outputs": []
    },
    {
      "cell_type": "code",
      "source": [
        "# Načítanie datasetu\n",
        "data = pd.read_csv(\"WineQT.csv\")\n",
        "# Zobrazenie prvých 5 riadkov datasetu\n",
        "print(data.head())"
      ],
      "metadata": {
        "id": "3wke3ZTYy7-H"
      },
      "execution_count": null,
      "outputs": []
    },
    {
      "cell_type": "markdown",
      "source": [
        "**Preskúmanie datasetu**"
      ],
      "metadata": {
        "id": "a4Mx590TxmjT"
      }
    },
    {
      "cell_type": "code",
      "source": [
        "# Štatistický prehľad dát\n",
        "print(data.describe())\n",
        "\n",
        "# Kontrola chýbajúcich hodnôt\n",
        "print(data.isnull().sum())"
      ],
      "metadata": {
        "id": "2agqMFfJxrAB"
      },
      "execution_count": null,
      "outputs": []
    },
    {
      "cell_type": "code",
      "source": [
        "data.info()"
      ],
      "metadata": {
        "id": "e5US8jkZyG0C"
      },
      "execution_count": null,
      "outputs": []
    },
    {
      "cell_type": "markdown",
      "source": [
        "# **Exploračná analýza**"
      ],
      "metadata": {
        "id": "STO7PhSzyUz7"
      }
    },
    {
      "cell_type": "markdown",
      "source": [
        "*Histogramy pre všetky vstupné premenné*"
      ],
      "metadata": {
        "id": "7rHgthJfuboi"
      }
    },
    {
      "cell_type": "code",
      "source": [
        "# Vytvorenie binárnej premennej  kvalita, ak ešte neexistuje\n",
        "avg_quality = data['quality'].mean()\n",
        "data['quality_binary'] = (data['quality'] > avg_quality).astype(int)\n",
        "\n",
        "# Histogramy bez 'quality' a 'quality_binary'\n",
        "data_features = data.drop(['quality', 'quality_binary'], axis=1)\n",
        "\n",
        "data_features.hist(bins=15, figsize=(15, 10), color='skyblue', edgecolor='black')\n",
        "plt.suptitle('Histogramy všetkých vstupných premenných', fontsize=16)\n",
        "plt.tight_layout()\n",
        "plt.show()\n"
      ],
      "metadata": {
        "id": "a9cdoFqzwmWI"
      },
      "execution_count": null,
      "outputs": []
    },
    {
      "cell_type": "markdown",
      "source": [
        "*Histogram: kvalita vína*"
      ],
      "metadata": {
        "id": "M9RiRdeyujCn"
      }
    },
    {
      "cell_type": "code",
      "source": [
        "plt.figure(figsize=(8, 5))\n",
        "sns.countplot(x='quality', data=data, palette='viridis')\n",
        "plt.title('Rozdelenie kvality vína')\n",
        "plt.xlabel('Kvalita')\n",
        "plt.ylabel('Počet vzoriek')\n",
        "plt.grid(axis='y')\n",
        "plt.show()\n"
      ],
      "metadata": {
        "id": "1DAoQPKCupC4"
      },
      "execution_count": null,
      "outputs": []
    },
    {
      "cell_type": "markdown",
      "source": [
        "*Histogram s rozdelením podľa triedy: pod vs. nad priemerom*"
      ],
      "metadata": {
        "id": "6Jx8v_9SuwoW"
      }
    },
    {
      "cell_type": "code",
      "source": [
        "plt.figure(figsize=(8, 5))\n",
        "sns.histplot(data=data, x='alcohol', hue='quality_binary', bins=20, kde=True, palette=['red', 'green'])\n",
        "plt.title('Rozdelenie alkoholu podľa kvality vína (0 = podpriemerné, 1 = nadpriemerné)')\n",
        "plt.xlabel('Alkohol')\n",
        "plt.ylabel('Počet vzoriek')\n",
        "plt.grid()\n",
        "plt.show()\n"
      ],
      "metadata": {
        "id": "Ksz1n3ELu48H"
      },
      "execution_count": null,
      "outputs": []
    },
    {
      "cell_type": "markdown",
      "source": [
        "*Boxploty – porovnanie vlastností podľa kvality (binárne)*"
      ],
      "metadata": {
        "id": "tWYsztYDu-cl"
      }
    },
    {
      "cell_type": "code",
      "source": [
        "import seaborn as sns\n",
        "\n",
        "# Výber premenných\n",
        "features = ['alcohol', 'volatile acidity', 'citric acid', 'sulphates', 'pH']\n",
        "\n",
        "plt.figure(figsize=(15, 10))\n",
        "for i, col in enumerate(features, 1):\n",
        "    plt.subplot(2, 3, i)\n",
        "    sns.boxplot(x='quality_binary', y=col, data=data, palette='Set2')\n",
        "    plt.title(f'{col} podľa kvality')\n",
        "    plt.xlabel('Kvalita (0 = podpriemer, 1 = nadpriemer)')\n",
        "    plt.tight_layout()\n"
      ],
      "metadata": {
        "id": "KpgJsFUtvFau"
      },
      "execution_count": null,
      "outputs": []
    },
    {
      "cell_type": "markdown",
      "source": [
        " *Pairplot – vzťahy medzi viacerými premennými + farebne podľa kvality*"
      ],
      "metadata": {
        "id": "_lI380RqvL-m"
      }
    },
    {
      "cell_type": "code",
      "source": [
        "# Pre jednoduchosť vyberieme len niekoľko premenných\n",
        "selected = data[['alcohol', 'volatile acidity', 'citric acid', 'sulphates', 'quality_binary']]\n",
        "\n",
        "sns.pairplot(selected, hue='quality_binary', palette='Set1', diag_kind='kde')\n",
        "plt.suptitle('Pairplot vybraných vlastností podľa kvality', y=1.02)\n",
        "plt.show()\n"
      ],
      "metadata": {
        "id": "GAZKedaevSNF"
      },
      "execution_count": null,
      "outputs": []
    },
    {
      "cell_type": "markdown",
      "source": [
        "*Korelácie – ako silne súvisia premenné s kvalitou*"
      ],
      "metadata": {
        "id": "47Xejw30vWoG"
      }
    },
    {
      "cell_type": "code",
      "source": [
        "# Korelácia s binárnou kvalitou\n",
        "correlations = data.corr()['quality_binary'].sort_values(ascending=False)\n",
        "\n",
        "print('Top korelujúce vlastnosti s nadpriemernou kvalitou:')\n",
        "print(correlations)\n",
        "\n",
        "# Vizualizácia\n",
        "plt.figure(figsize=(10, 6))\n",
        "sns.barplot(x=correlations.values, y=correlations.index, palette='coolwarm')\n",
        "plt.title('Korelácia premenných s binárnou kvalitou')\n",
        "plt.xlabel('Korelačný koeficient')\n",
        "plt.grid()\n",
        "plt.show()\n"
      ],
      "metadata": {
        "id": "A11zSZIcvg1V"
      },
      "execution_count": null,
      "outputs": []
    },
    {
      "cell_type": "markdown",
      "source": [
        "# **Predspracovanie dát**\n",
        "\n",
        "Predspracujeme dáta: rozdelenie na tréningové a testovacie množiny, a štandardizácia.\n",
        "\n",
        "\n"
      ],
      "metadata": {
        "id": "bXIYH417-Q02"
      }
    },
    {
      "cell_type": "code",
      "source": [
        "import pandas as pd\n",
        "from sklearn.model_selection import train_test_split\n",
        "from sklearn.preprocessing import StandardScaler\n",
        "from sklearn.linear_model import LogisticRegression\n",
        "from sklearn.metrics import accuracy_score, classification_report, confusion_matrix\n",
        "\n",
        "\n",
        "# Výpočet priemernej kvality\n",
        "avg_quality = data['quality'].mean()\n",
        "\n",
        "print(f'Priemerná kvalita: {avg_quality:.2f}')\n",
        "\n",
        "# Vytvorenie binárnej cieľovej premennej\n",
        "data['quality_binary'] = (data['quality'] > avg_quality).astype(int)\n",
        "\n",
        "# Rozdelenie dát na vstupy a výstupy\n",
        "X = data.drop(['quality', 'quality_binary'], axis=1)\n",
        "y = data['quality_binary']\n",
        "\n",
        "# Rozdelenie dát na tréningové a testovacie množiny\n",
        "X_train, X_test, y_train, y_test = train_test_split(X, y, test_size=0.3, random_state=42)\n",
        "\n",
        "# Štandardizácia vstupov\n",
        "scaler = StandardScaler()\n",
        "X_train = scaler.fit_transform(X_train)\n",
        "X_test = scaler.transform(X_test)\n",
        "\n",
        "\n"
      ],
      "metadata": {
        "id": "-o74YICr-Vae"
      },
      "execution_count": null,
      "outputs": []
    },
    {
      "cell_type": "code",
      "source": [
        "# Trénovanie logistickej regresie\n",
        "model = LogisticRegression()\n",
        "model.fit(X_train, y_train)\n",
        "\n",
        "# Predikcia\n",
        "y_pred = model.predict(X_test)\n",
        "\n",
        "# Vyhodnotenie modelu\n",
        "print(f'Presnosť: {accuracy_score(y_test, y_pred):.4f}')\n",
        "print('Maticu zámien:')\n",
        "print(confusion_matrix(y_test, y_pred))\n",
        "print('Klasifikačná správa:')\n",
        "print(classification_report(y_test, y_pred))"
      ],
      "metadata": {
        "id": "h4gCwYXb-zql"
      },
      "execution_count": null,
      "outputs": []
    },
    {
      "cell_type": "markdown",
      "source": [
        "# **Vizualizácie - Vyhodnotenie modelu**"
      ],
      "metadata": {
        "id": "NOJmtzkWDaze"
      }
    },
    {
      "cell_type": "markdown",
      "source": [
        "*Confusion Matrix*"
      ],
      "metadata": {
        "id": "nR-Yq5cEDdH1"
      }
    },
    {
      "cell_type": "code",
      "source": [
        "from sklearn.metrics import confusion_matrix, ConfusionMatrixDisplay\n",
        "\n",
        "cm = confusion_matrix(y_test, y_pred)\n",
        "disp = ConfusionMatrixDisplay(confusion_matrix=cm, display_labels=[0, 1])\n",
        "disp.plot(cmap='Blues')\n",
        "plt.title('Confusion Matrix – Logistická regresia')\n",
        "plt.show()\n"
      ],
      "metadata": {
        "id": "ygtdRRMUDqPO"
      },
      "execution_count": null,
      "outputs": []
    },
    {
      "cell_type": "markdown",
      "source": [
        " *ROC krivka a AUC skóre*"
      ],
      "metadata": {
        "id": "YVDDQKWMD5kN"
      }
    },
    {
      "cell_type": "code",
      "source": [
        "from sklearn.metrics import roc_curve, roc_auc_score\n",
        "\n",
        "y_probs = model.predict_proba(X_test)[:, 1]\n",
        "fpr, tpr, thresholds = roc_curve(y_test, y_probs)\n",
        "auc_score = roc_auc_score(y_test, y_probs)\n",
        "\n",
        "plt.figure(figsize=(6, 5))\n",
        "plt.plot(fpr, tpr, label=f'Logistická regresia (AUC = {auc_score:.2f})')\n",
        "plt.plot([0, 1], [0, 1], 'k--', label='Náhodná klasifikácia')\n",
        "plt.xlabel('False Positive Rate')\n",
        "plt.ylabel('True Positive Rate')\n",
        "plt.title('ROC krivka')\n",
        "plt.legend()\n",
        "plt.grid()\n",
        "plt.show()\n"
      ],
      "metadata": {
        "id": "kzC6NjdmEAs2"
      },
      "execution_count": null,
      "outputs": []
    },
    {
      "cell_type": "markdown",
      "source": [
        "*Koeficienty/váhy modelu – význam vstupných premenných*"
      ],
      "metadata": {
        "id": "BzjTYqhfEL3d"
      }
    },
    {
      "cell_type": "code",
      "source": [
        "import pandas as pd\n",
        "coefs = pd.Series(model.coef_[0], index=X.columns)\n",
        "coefs.sort_values().plot(kind='barh', figsize=(8, 6), color='teal')\n",
        "plt.title('Váhy vstupných premenných (logistická regresia)')\n",
        "plt.xlabel('Hodnota koeficientu')\n",
        "plt.grid()\n",
        "plt.show()\n"
      ],
      "metadata": {
        "id": "4Y-QLSC7EYB9"
      },
      "execution_count": null,
      "outputs": []
    },
    {
      "cell_type": "markdown",
      "source": [],
      "metadata": {
        "id": "D-htg3y1Eh5D"
      }
    }
  ]
}